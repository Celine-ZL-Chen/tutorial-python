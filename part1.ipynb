{
 "cells": [
  {
   "cell_type": "markdown",
   "id": "2a9e77f8-74a0-489f-a180-a9cba3d5943b",
   "metadata": {},
   "source": [
    "# Part1: Running and Quitting"
   ]
  },
  {
   "cell_type": "markdown",
   "id": "b3665e7c-2300-42ba-a119-cff000408c94",
   "metadata": {},
   "source": [
    "## 1. Working directory"
   ]
  },
  {
   "cell_type": "code",
   "execution_count": 1,
   "id": "98dbc8dd-22a5-43cd-ac00-1a6e8ab48e32",
   "metadata": {},
   "outputs": [
    {
     "data": {
      "text/plain": [
       "'/home/celineczl/projects/tutorial-python'"
      ]
     },
     "execution_count": 1,
     "metadata": {},
     "output_type": "execute_result"
    }
   ],
   "source": [
    "import os\n",
    "os.getcwd()"
   ]
  },
  {
   "cell_type": "code",
   "execution_count": 3,
   "id": "71dc333d-c425-4c64-951f-3f84f15b06bb",
   "metadata": {},
   "outputs": [
    {
     "data": {
      "text/plain": [
       "'data/names.txt'"
      ]
     },
     "execution_count": 3,
     "metadata": {},
     "output_type": "execute_result"
    }
   ],
   "source": [
    "'data/names.txt' # avoid using absolute path"
   ]
  },
  {
   "cell_type": "markdown",
   "id": "c63308a8-eed2-46fa-a417-5edb6314f30f",
   "metadata": {},
   "source": [
    "Define functions in python script, jupyter notebook calls on script\n",
    "* to embed functions within jupyter notebook\n",
    "* to ensure code to be reusable (functions in jupyter notebook cannot be called elsewhere)"
   ]
  },
  {
   "cell_type": "markdown",
   "id": "967f1933-de2b-48a6-9caf-f718886b0f4c",
   "metadata": {},
   "source": [
    "## 2. Markdown"
   ]
  },
  {
   "cell_type": "markdown",
   "id": "da3221dc-adff-4b5f-bc8b-397159b5c592",
   "metadata": {},
   "source": [
    "### 2.1 Creat bullet points"
   ]
  },
  {
   "cell_type": "markdown",
   "id": "ea3e6ac6-1924-4c7f-b759-8ad3317a35fd",
   "metadata": {},
   "source": [
    "* use indents\n",
    "  * to create to create sublists"
   ]
  },
  {
   "cell_type": "markdown",
   "id": "b9c553e3-6077-4b92-ba6e-4c334f1723ab",
   "metadata": {},
   "source": [
    "### 2.2. Create numbered lists."
   ]
  },
  {
   "cell_type": "markdown",
   "id": "62e52144-bcfc-437f-9ebc-6f7034f227fe",
   "metadata": {},
   "source": [
    "1. Get funding.\n",
    "2. Do work.\n",
    "     * Design experiment.\n",
    "     * Collect data.\n",
    "     * Analyze.\n",
    "1. Write up.\n",
    "2. Publish."
   ]
  },
  {
   "cell_type": "markdown",
   "id": "d5979516-6d4a-463e-a873-cde637c89700",
   "metadata": {},
   "source": [
    "### 2.3. More Math"
   ]
  },
  {
   "cell_type": "code",
   "execution_count": 5,
   "id": "6cf3f4f7-4dd7-47ce-b171-1b3e5dd6ed5f",
   "metadata": {},
   "outputs": [
    {
     "data": {
      "text/plain": [
       "3"
      ]
     },
     "execution_count": 5,
     "metadata": {},
     "output_type": "execute_result"
    }
   ],
   "source": [
    "7 * 3\n",
    "2 + 1 # only give the last result"
   ]
  },
  {
   "cell_type": "markdown",
   "id": "0a14ed09-8009-4588-ac5f-9919ca4bf85a",
   "metadata": {},
   "source": [
    "### 2.4. Equations"
   ]
  },
  {
   "cell_type": "markdown",
   "id": "bfe21914-d277-4f0a-94dd-d5df842f4e60",
   "metadata": {},
   "source": [
    "$ \\sum_{i=1}^{N} 2^{-i} \\approx 1 $"
   ]
  },
  {
   "cell_type": "markdown",
   "id": "51046daa-59b8-4a9c-8ec9-008373d84055",
   "metadata": {},
   "source": [
    "## 3. Jupyter lab port"
   ]
  },
  {
   "cell_type": "markdown",
   "id": "7f29718e-c849-4f83-a2aa-2fcc54ff648d",
   "metadata": {},
   "source": [
    "Use different jupyter lab port when 8888 is occupied\n",
    "* by e.g., `jupyter lab --port 8989`"
   ]
  }
 ],
 "metadata": {
  "kernelspec": {
   "display_name": "Python 3 (ipykernel)",
   "language": "python",
   "name": "python3"
  },
  "language_info": {
   "codemirror_mode": {
    "name": "ipython",
    "version": 3
   },
   "file_extension": ".py",
   "mimetype": "text/x-python",
   "name": "python",
   "nbconvert_exporter": "python",
   "pygments_lexer": "ipython3",
   "version": "3.8.18"
  }
 },
 "nbformat": 4,
 "nbformat_minor": 5
}
