{
 "cells": [
  {
   "cell_type": "markdown",
   "id": "a83060dd-3751-44a3-b660-8f15da3f89b2",
   "metadata": {},
   "source": [
    "# Part4: Built-in Functions and Help"
   ]
  },
  {
   "cell_type": "markdown",
   "id": "69c38adf-6160-4e1e-aa1d-7ae4b44839be",
   "metadata": {},
   "source": [
    "## Get Help"
   ]
  },
  {
   "cell_type": "code",
   "execution_count": 1,
   "id": "f6a2688c-7506-4b26-b767-c35d7c7db2a9",
   "metadata": {},
   "outputs": [
    {
     "data": {
      "text/plain": [
       "<function print>"
      ]
     },
     "execution_count": 1,
     "metadata": {},
     "output_type": "execute_result"
    }
   ],
   "source": [
    "print # shift-tab to get help of functions"
   ]
  },
  {
   "cell_type": "code",
   "execution_count": 2,
   "id": "8a284fc0-f86d-40f8-b622-7e9fb9737195",
   "metadata": {},
   "outputs": [
    {
     "data": {
      "text/plain": [
       "\u001b[0;31mDocstring:\u001b[0m\n",
       "print(value, ..., sep=' ', end='\\n', file=sys.stdout, flush=False)\n",
       "\n",
       "Prints the values to a stream, or to sys.stdout by default.\n",
       "Optional keyword arguments:\n",
       "file:  a file-like object (stream); defaults to the current sys.stdout.\n",
       "sep:   string inserted between values, default a space.\n",
       "end:   string appended after the last value, default a newline.\n",
       "flush: whether to forcibly flush the stream.\n",
       "\u001b[0;31mType:\u001b[0m      builtin_function_or_method"
      ]
     },
     "metadata": {},
     "output_type": "display_data"
    }
   ],
   "source": [
    "print?"
   ]
  },
  {
   "cell_type": "code",
   "execution_count": 26,
   "id": "8e21dd97-7172-4288-83dd-74f2cbd590e2",
   "metadata": {},
   "outputs": [
    {
     "name": "stdout",
     "output_type": "stream",
     "text": [
      "Help on built-in function round in module builtins:\n",
      "\n",
      "round(number, ndigits=None)\n",
      "    Round a number to a given precision in decimal digits.\n",
      "    \n",
      "    The return value is an integer if ndigits is omitted or None.  Otherwise\n",
      "    the return value has the same type as the number.  ndigits may be negative.\n",
      "\n"
     ]
    }
   ],
   "source": [
    "help(round) # more simple to read"
   ]
  },
  {
   "cell_type": "markdown",
   "id": "bc0ed672-9777-4c58-a7cf-acd0043f4e36",
   "metadata": {},
   "source": [
    "## Every function returns something"
   ]
  },
  {
   "cell_type": "code",
   "execution_count": 4,
   "id": "eb086629-189b-45bd-9b13-10eef6f05881",
   "metadata": {},
   "outputs": [
    {
     "name": "stdout",
     "output_type": "stream",
     "text": [
      "example\n",
      "result of print is: None\n"
     ]
    }
   ],
   "source": [
    "result = print('example')\n",
    "print('result of print is:', result)"
   ]
  },
  {
   "cell_type": "markdown",
   "id": "cf375667-bb61-4af7-8bca-e6837265a29b",
   "metadata": {},
   "source": [
    "## Commonly-used built-in functions"
   ]
  },
  {
   "cell_type": "code",
   "execution_count": 6,
   "id": "cea7e726-156e-45c5-9ad3-0a74cf2ce4e8",
   "metadata": {},
   "outputs": [
    {
     "name": "stdout",
     "output_type": "stream",
     "text": [
      "3\n"
     ]
    }
   ],
   "source": [
    "print(max(1, 2, 3))"
   ]
  },
  {
   "cell_type": "code",
   "execution_count": 7,
   "id": "2aa2ab96-c1d1-4c05-8301-3e06dd1829a9",
   "metadata": {},
   "outputs": [
    {
     "name": "stdout",
     "output_type": "stream",
     "text": [
      "A\n"
     ]
    }
   ],
   "source": [
    "print(min('a', 'A', 'b'))"
   ]
  },
  {
   "cell_type": "markdown",
   "id": "16b13c07-1941-451b-bebd-e114a00ffc71",
   "metadata": {},
   "source": [
    "Strings will be converted to ASCII code.  \n",
    "The one with lowest ASCII code will be printed."
   ]
  },
  {
   "cell_type": "code",
   "execution_count": 9,
   "id": "f7381c83-c0ad-4391-aeaf-5346e85d35bd",
   "metadata": {},
   "outputs": [
    {
     "ename": "TypeError",
     "evalue": "'>' not supported between instances of 'str' and 'int'",
     "output_type": "error",
     "traceback": [
      "\u001b[0;31m---------------------------------------------------------------------------\u001b[0m",
      "\u001b[0;31mTypeError\u001b[0m                                 Traceback (most recent call last)",
      "Cell \u001b[0;32mIn[9], line 1\u001b[0m\n\u001b[0;32m----> 1\u001b[0m \u001b[38;5;28mprint\u001b[39m(\u001b[38;5;28;43mmax\u001b[39;49m\u001b[43m(\u001b[49m\u001b[38;5;241;43m1\u001b[39;49m\u001b[43m,\u001b[49m\u001b[43m \u001b[49m\u001b[38;5;124;43m'\u001b[39;49m\u001b[38;5;124;43ma\u001b[39;49m\u001b[38;5;124;43m'\u001b[39;49m\u001b[43m)\u001b[49m)\n",
      "\u001b[0;31mTypeError\u001b[0m: '>' not supported between instances of 'str' and 'int'"
     ]
    }
   ],
   "source": [
    "print(max(1, 'a'))"
   ]
  },
  {
   "cell_type": "markdown",
   "id": "429b5520-c9a1-40b1-9c64-4bebc3fb4f89",
   "metadata": {},
   "source": [
    "## Default argument values"
   ]
  },
  {
   "cell_type": "code",
   "execution_count": 11,
   "id": "b4cb90ab-0c2c-4880-be9c-e55b2ba69729",
   "metadata": {},
   "outputs": [
    {
     "data": {
      "text/plain": [
       "\u001b[0;31mSignature:\u001b[0m \u001b[0mround\u001b[0m\u001b[0;34m(\u001b[0m\u001b[0mnumber\u001b[0m\u001b[0;34m,\u001b[0m \u001b[0mndigits\u001b[0m\u001b[0;34m=\u001b[0m\u001b[0;32mNone\u001b[0m\u001b[0;34m)\u001b[0m\u001b[0;34m\u001b[0m\u001b[0;34m\u001b[0m\u001b[0m\n",
       "\u001b[0;31mDocstring:\u001b[0m\n",
       "Round a number to a given precision in decimal digits.\n",
       "\n",
       "The return value is an integer if ndigits is omitted or None.  Otherwise\n",
       "the return value has the same type as the number.  ndigits may be negative.\n",
       "\u001b[0;31mType:\u001b[0m      builtin_function_or_method"
      ]
     },
     "metadata": {},
     "output_type": "display_data"
    }
   ],
   "source": [
    "round?"
   ]
  },
  {
   "cell_type": "code",
   "execution_count": 12,
   "id": "406eb553-10aa-4320-a438-94f213937457",
   "metadata": {},
   "outputs": [
    {
     "data": {
      "text/plain": [
       "4"
      ]
     },
     "execution_count": 12,
     "metadata": {},
     "output_type": "execute_result"
    }
   ],
   "source": [
    "round(3.712)"
   ]
  },
  {
   "cell_type": "code",
   "execution_count": 13,
   "id": "11d984ad-d313-4a26-892c-c16121360a97",
   "metadata": {},
   "outputs": [
    {
     "data": {
      "text/plain": [
       "3.7"
      ]
     },
     "execution_count": 13,
     "metadata": {},
     "output_type": "execute_result"
    }
   ],
   "source": [
    "round(3.712, 1)"
   ]
  },
  {
   "cell_type": "code",
   "execution_count": 14,
   "id": "efcdab61-01f4-4b80-b6f4-fc9453caa821",
   "metadata": {},
   "outputs": [
    {
     "data": {
      "text/plain": [
       "3.7"
      ]
     },
     "execution_count": 14,
     "metadata": {},
     "output_type": "execute_result"
    }
   ],
   "source": [
    "round(3.712, ndigits=1)"
   ]
  },
  {
   "cell_type": "markdown",
   "id": "6ed2113f-ec9f-4f61-b730-c2b75bf00578",
   "metadata": {},
   "source": [
    "## Methods"
   ]
  },
  {
   "cell_type": "markdown",
   "id": "2ead0e2d-f97d-43f4-89fc-86b85d610c31",
   "metadata": {},
   "source": [
    "Functions attached to objects are called methods."
   ]
  },
  {
   "cell_type": "code",
   "execution_count": 15,
   "id": "0c0524e4-2234-4bd0-a7bd-fd85261548c2",
   "metadata": {},
   "outputs": [],
   "source": [
    "s = 'Hello world!'"
   ]
  },
  {
   "cell_type": "markdown",
   "id": "17c243bb-5d9e-4ace-b177-365b834497f4",
   "metadata": {},
   "source": [
    "### e.g. Functions"
   ]
  },
  {
   "cell_type": "code",
   "execution_count": 17,
   "id": "c7fa47b9-54a6-491a-a7c2-8ef09c4dfddb",
   "metadata": {},
   "outputs": [
    {
     "data": {
      "text/plain": [
       "str"
      ]
     },
     "execution_count": 17,
     "metadata": {},
     "output_type": "execute_result"
    }
   ],
   "source": [
    "type(s) # string is an object"
   ]
  },
  {
   "cell_type": "code",
   "execution_count": 18,
   "id": "efec76bc-527e-4f5f-8ff8-365c1f00be63",
   "metadata": {},
   "outputs": [
    {
     "data": {
      "text/plain": [
       "12"
      ]
     },
     "execution_count": 18,
     "metadata": {},
     "output_type": "execute_result"
    }
   ],
   "source": [
    "len(s) # length of string 12 characters"
   ]
  },
  {
   "cell_type": "markdown",
   "id": "8d7aa58a-1b3a-4aa4-9887-7ba2e208379a",
   "metadata": {},
   "source": [
    "The len function takes a string as an argument and returns the length of the string"
   ]
  },
  {
   "cell_type": "markdown",
   "id": "964ea8f8-9a78-4914-8d5a-496a90317511",
   "metadata": {},
   "source": [
    "### e.g. Methods"
   ]
  },
  {
   "cell_type": "code",
   "execution_count": 19,
   "id": "fc7ada9c-e29e-4968-9b30-3e8edbcdc6c8",
   "metadata": {},
   "outputs": [
    {
     "data": {
      "text/plain": [
       "'hELLO WORLD!'"
      ]
     },
     "execution_count": 19,
     "metadata": {},
     "output_type": "execute_result"
    }
   ],
   "source": [
    "s.swapcase()"
   ]
  },
  {
   "cell_type": "markdown",
   "id": "9bfb2fb4-e75d-4b6f-a03d-c7831761743a",
   "metadata": {},
   "source": [
    "swapcase is a method for string object s.  \n",
    "Methods put objects in the beginning."
   ]
  },
  {
   "cell_type": "code",
   "execution_count": 20,
   "id": "408e0a8d-5da9-4a9a-8e0c-b02060426420",
   "metadata": {},
   "outputs": [
    {
     "data": {
      "text/plain": [
       "12"
      ]
     },
     "execution_count": 20,
     "metadata": {},
     "output_type": "execute_result"
    }
   ],
   "source": [
    "s.__len__()"
   ]
  },
  {
   "cell_type": "markdown",
   "id": "f02944cc-62c2-49ed-a9c3-8de8e0748da4",
   "metadata": {},
   "source": [
    "Calling the internal `__len__` method on the `s` object, used by `len(s)`"
   ]
  },
  {
   "cell_type": "code",
   "execution_count": 21,
   "id": "dcdc5b66-499b-47b7-8ce3-975ff9c67d0e",
   "metadata": {},
   "outputs": [
    {
     "data": {
      "text/plain": [
       "False"
      ]
     },
     "execution_count": 21,
     "metadata": {},
     "output_type": "execute_result"
    }
   ],
   "source": [
    "s.isupper()"
   ]
  },
  {
   "cell_type": "code",
   "execution_count": 22,
   "id": "26595850-86c5-40aa-8aad-10d97f1a4c10",
   "metadata": {},
   "outputs": [
    {
     "data": {
      "text/plain": [
       "'HELLO WORLD!'"
      ]
     },
     "execution_count": 22,
     "metadata": {},
     "output_type": "execute_result"
    }
   ],
   "source": [
    "s.upper()"
   ]
  },
  {
   "cell_type": "code",
   "execution_count": 24,
   "id": "04942236-a8ea-4d49-bc71-ba635dfb4a44",
   "metadata": {},
   "outputs": [
    {
     "data": {
      "text/plain": [
       "True"
      ]
     },
     "execution_count": 24,
     "metadata": {},
     "output_type": "execute_result"
    }
   ],
   "source": [
    "s.upper().isupper() # chain the methods together, from left to right"
   ]
  },
  {
   "cell_type": "markdown",
   "id": "d54672ad-457b-426b-a0dc-bd6060a11e6f",
   "metadata": {},
   "source": [
    "## Syntax Error"
   ]
  },
  {
   "cell_type": "code",
   "execution_count": 27,
   "id": "7c57738c-1987-4c58-a87a-e37acbd5402b",
   "metadata": {},
   "outputs": [
    {
     "ename": "SyntaxError",
     "evalue": "EOL while scanning string literal (2720358869.py, line 1)",
     "output_type": "error",
     "traceback": [
      "\u001b[0;36m  Cell \u001b[0;32mIn[27], line 1\u001b[0;36m\u001b[0m\n\u001b[0;31m    name = 'Feng\u001b[0m\n\u001b[0m                ^\u001b[0m\n\u001b[0;31mSyntaxError\u001b[0m\u001b[0;31m:\u001b[0m EOL while scanning string literal\n"
     ]
    }
   ],
   "source": [
    "name = 'Feng"
   ]
  },
  {
   "cell_type": "markdown",
   "id": "d3525104-3d79-4507-9058-2168a45b92b5",
   "metadata": {},
   "source": [
    "EOL: end of line"
   ]
  },
  {
   "cell_type": "code",
   "execution_count": 29,
   "id": "7440024b-7e99-4f39-a60a-023c022118f4",
   "metadata": {},
   "outputs": [
    {
     "ename": "SyntaxError",
     "evalue": "invalid syntax (4100971014.py, line 1)",
     "output_type": "error",
     "traceback": [
      "\u001b[0;36m  Cell \u001b[0;32mIn[29], line 1\u001b[0;36m\u001b[0m\n\u001b[0;31m    age = = 52\u001b[0m\n\u001b[0m          ^\u001b[0m\n\u001b[0;31mSyntaxError\u001b[0m\u001b[0;31m:\u001b[0m invalid syntax\n"
     ]
    }
   ],
   "source": [
    "age = = 52"
   ]
  },
  {
   "cell_type": "code",
   "execution_count": 30,
   "id": "45dff106-2554-41bd-9159-4fecaec7495f",
   "metadata": {},
   "outputs": [
    {
     "ename": "SyntaxError",
     "evalue": "unexpected EOF while parsing (1028029194.py, line 1)",
     "output_type": "error",
     "traceback": [
      "\u001b[0;36m  Cell \u001b[0;32mIn[30], line 1\u001b[0;36m\u001b[0m\n\u001b[0;31m    print(\"hello world\"\u001b[0m\n\u001b[0m                       ^\u001b[0m\n\u001b[0;31mSyntaxError\u001b[0m\u001b[0;31m:\u001b[0m unexpected EOF while parsing\n"
     ]
    }
   ],
   "source": [
    "print(\"hello world\""
   ]
  },
  {
   "cell_type": "markdown",
   "id": "762f9628-0b61-464c-809b-330b1177ea89",
   "metadata": {},
   "source": [
    "EOF: end of file"
   ]
  },
  {
   "cell_type": "markdown",
   "id": "74dabcec-90e5-4b78-8363-b507c2b76d2a",
   "metadata": {},
   "source": [
    "## Runtime Error"
   ]
  },
  {
   "cell_type": "code",
   "execution_count": 32,
   "id": "b73f90e5-5e9f-4bc0-886d-7a2e7af17d56",
   "metadata": {},
   "outputs": [
    {
     "ename": "NameError",
     "evalue": "name 'aege' is not defined",
     "output_type": "error",
     "traceback": [
      "\u001b[0;31m---------------------------------------------------------------------------\u001b[0m",
      "\u001b[0;31mNameError\u001b[0m                                 Traceback (most recent call last)",
      "Cell \u001b[0;32mIn[32], line 2\u001b[0m\n\u001b[1;32m      1\u001b[0m age \u001b[38;5;241m=\u001b[39m \u001b[38;5;241m53\u001b[39m\n\u001b[0;32m----> 2\u001b[0m remaining \u001b[38;5;241m=\u001b[39m \u001b[38;5;241m100\u001b[39m \u001b[38;5;241m-\u001b[39m \u001b[43maege\u001b[49m\n",
      "\u001b[0;31mNameError\u001b[0m: name 'aege' is not defined"
     ]
    }
   ],
   "source": [
    "age = 53\n",
    "remaining = 100 - aege"
   ]
  },
  {
   "cell_type": "markdown",
   "id": "10cd0383-f5a2-4be9-b244-0a82bcbf0e91",
   "metadata": {},
   "source": [
    "## Question 1"
   ]
  },
  {
   "cell_type": "markdown",
   "id": "4c16e731-c8ef-4e6e-9e31-8320437a45cb",
   "metadata": {},
   "source": [
    "Explain in simple terms the order of operations in the following program: when does the addition happen, when does the subtraction happen, when is each function called, etc.\n",
    "What is the final value of radiance?"
   ]
  },
  {
   "cell_type": "code",
   "execution_count": 33,
   "id": "4298a28c-6829-4628-b8e1-3547ea9a390a",
   "metadata": {},
   "outputs": [],
   "source": [
    "radiance = 1.0\n",
    "radiance = max(2.1, 2.0 + min(radiance, 1.1 * radiance - 0.5))"
   ]
  },
  {
   "cell_type": "markdown",
   "id": "3c8e2344-1d1a-4c76-ab91-bf61e58249d8",
   "metadata": {},
   "source": [
    "* radiance = 1.0 # assignment happens first\n",
    "* 1.1 * __?__ 1.0 = 1.1 # multiplication prior to subtraction\n",
    "* __?__ 1.1 - 0.5 = 0.6\n",
    "* min(radiance, __?__ 0.6)\n",
    "* max(2.1, __?__ 2.6) = 2.6\n",
    "* radiance = max(2.1, __?__ 2.6) = 2.6"
   ]
  }
 ],
 "metadata": {
  "kernelspec": {
   "display_name": "Python 3 (ipykernel)",
   "language": "python",
   "name": "python3"
  },
  "language_info": {
   "codemirror_mode": {
    "name": "ipython",
    "version": 3
   },
   "file_extension": ".py",
   "mimetype": "text/x-python",
   "name": "python",
   "nbconvert_exporter": "python",
   "pygments_lexer": "ipython3",
   "version": "3.8.18"
  }
 },
 "nbformat": 4,
 "nbformat_minor": 5
}
