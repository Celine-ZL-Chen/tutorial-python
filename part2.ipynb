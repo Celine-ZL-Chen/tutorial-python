{
 "cells": [
  {
   "cell_type": "markdown",
   "id": "5716e2bc-516d-4e72-9205-7c2f1ec79d2d",
   "metadata": {},
   "source": [
    "# Part2: Variables and Assignment"
   ]
  },
  {
   "cell_type": "code",
   "execution_count": 1,
   "id": "88c1d72a-846c-4ae4-bb62-042569ee1f0b",
   "metadata": {},
   "outputs": [],
   "source": [
    "age = 42\n",
    "first_name = 'Ahmed' # assignment will not show output"
   ]
  },
  {
   "cell_type": "code",
   "execution_count": 2,
   "id": "058caf41-1f7c-47ea-941a-d504514590ca",
   "metadata": {},
   "outputs": [
    {
     "name": "stdout",
     "output_type": "stream",
     "text": [
      "Ahmed\n",
      "42\n"
     ]
    }
   ],
   "source": [
    "print(first_name)\n",
    "print(age)"
   ]
  },
  {
   "cell_type": "code",
   "execution_count": 3,
   "id": "b0a7c1df-188c-4bf6-9a83-1bbdbace40e9",
   "metadata": {},
   "outputs": [
    {
     "data": {
      "text/plain": [
       "42"
      ]
     },
     "execution_count": 3,
     "metadata": {},
     "output_type": "execute_result"
    }
   ],
   "source": [
    "first_name\n",
    "age"
   ]
  },
  {
   "cell_type": "code",
   "execution_count": 4,
   "id": "d169f6a9-35a8-40ce-8f95-d8c635fb7598",
   "metadata": {},
   "outputs": [
    {
     "name": "stdout",
     "output_type": "stream",
     "text": [
      "43\n"
     ]
    }
   ],
   "source": [
    "age = age + 1\n",
    "print(age)"
   ]
  },
  {
   "cell_type": "markdown",
   "id": "3bcbf993-1000-4160-b8ab-eb218d0352e0",
   "metadata": {},
   "source": [
    "`=` in python is assignment, not means 'equal to'.  \n",
    "Jupyter notebook can get cells excuted multiple times in any random order.  \n",
    "Restart kernel and run all cells when messed up.\n",
    "* Separate two lines by two Spaces followed by Enter in markdown cells."
   ]
  },
  {
   "cell_type": "markdown",
   "id": "f6706109-3e08-49cd-ad88-673837d9c75d",
   "metadata": {},
   "source": [
    "## Kernels"
   ]
  },
  {
   "cell_type": "markdown",
   "id": "807f896a-21a4-4f2a-8733-0ea737265fbd",
   "metadata": {},
   "source": [
    "Variables shared across cells since in one notebook, single python kernal used.  \n",
    "But different notebooks don't share variables, they use different python kernel => independent python processes."
   ]
  },
  {
   "cell_type": "markdown",
   "id": "47881b70-54b8-4f34-8f1f-4e9b9a4b5f44",
   "metadata": {},
   "source": [
    "## Indexing"
   ]
  },
  {
   "cell_type": "code",
   "execution_count": 5,
   "id": "689380e2-f66e-4e96-9851-7e0c0676131f",
   "metadata": {},
   "outputs": [
    {
     "name": "stdout",
     "output_type": "stream",
     "text": [
      "h\n"
     ]
    }
   ],
   "source": [
    "atom_name = 'helium' # strings wrapped by quotes\n",
    "print(atom_name[0]) # python index starts from 0"
   ]
  },
  {
   "cell_type": "code",
   "execution_count": 7,
   "id": "031b8b4a-181e-460c-8d8c-233019499d53",
   "metadata": {},
   "outputs": [
    {
     "name": "stdout",
     "output_type": "stream",
     "text": [
      "sod\n"
     ]
    }
   ],
   "source": [
    "atom_name = 'sodium'\n",
    "print(atom_name[0:3])\n",
    "# exclusive index, only include 0,1,2"
   ]
  },
  {
   "cell_type": "code",
   "execution_count": 9,
   "id": "050c8afc-c0bf-4137-8350-b860f4ccff8a",
   "metadata": {},
   "outputs": [
    {
     "name": "stdout",
     "output_type": "stream",
     "text": [
      "sodium\n"
     ]
    }
   ],
   "source": [
    "print(atom_name[0:])"
   ]
  },
  {
   "cell_type": "code",
   "execution_count": 10,
   "id": "f98a3289-ef0b-41f9-a191-f90d0d8ffdf5",
   "metadata": {},
   "outputs": [
    {
     "name": "stdout",
     "output_type": "stream",
     "text": [
      "6\n"
     ]
    }
   ],
   "source": [
    "print(len('helium')) # print the length of the string"
   ]
  },
  {
   "cell_type": "code",
   "execution_count": 11,
   "id": "70420f68-e928-4997-9316-5dcc7f1a033d",
   "metadata": {},
   "outputs": [
    {
     "ename": "TypeError",
     "evalue": "object of type 'int' has no len()",
     "output_type": "error",
     "traceback": [
      "\u001b[0;31m---------------------------------------------------------------------------\u001b[0m",
      "\u001b[0;31mTypeError\u001b[0m                                 Traceback (most recent call last)",
      "Cell \u001b[0;32mIn[11], line 1\u001b[0m\n\u001b[0;32m----> 1\u001b[0m \u001b[38;5;28;43mlen\u001b[39;49m\u001b[43m(\u001b[49m\u001b[38;5;241;43m10\u001b[39;49m\u001b[43m)\u001b[49m\n",
      "\u001b[0;31mTypeError\u001b[0m: object of type 'int' has no len()"
     ]
    }
   ],
   "source": [
    "len(10)"
   ]
  },
  {
   "cell_type": "markdown",
   "id": "c5dbdff1-ecdf-4d3a-bb5e-348f6862ffbf",
   "metadata": {},
   "source": [
    "Length is only defined for vectors and lists, but not integers.  \n",
    "String is a list of characters."
   ]
  },
  {
   "cell_type": "code",
   "execution_count": 14,
   "id": "57875536-b56e-4522-bbbf-cfe39e6ac2a6",
   "metadata": {},
   "outputs": [
    {
     "ename": "NameError",
     "evalue": "name 'Age' is not defined",
     "output_type": "error",
     "traceback": [
      "\u001b[0;31m---------------------------------------------------------------------------\u001b[0m",
      "\u001b[0;31mNameError\u001b[0m                                 Traceback (most recent call last)",
      "Cell \u001b[0;32mIn[14], line 1\u001b[0m\n\u001b[0;32m----> 1\u001b[0m \u001b[43mAge\u001b[49m\n",
      "\u001b[0;31mNameError\u001b[0m: name 'Age' is not defined"
     ]
    }
   ],
   "source": [
    "Age # python is case-sensitive\n",
    "    # give meaningful variable names"
   ]
  },
  {
   "cell_type": "code",
   "execution_count": 15,
   "id": "0d7d9ece-d80a-41cb-96d9-037b9fc2b913",
   "metadata": {},
   "outputs": [],
   "source": [
    "person_name = 'John'"
   ]
  },
  {
   "cell_type": "code",
   "execution_count": 18,
   "id": "bfc0cd8d-4e52-4066-8635-d130ac9d4bb8",
   "metadata": {},
   "outputs": [
    {
     "name": "stdout",
     "output_type": "stream",
     "text": [
      "John is 43 years old\n"
     ]
    }
   ],
   "source": [
    "print(person_name, 'is', age, 'years old')\n",
    "# separate variables by comma"
   ]
  },
  {
   "cell_type": "markdown",
   "id": "17ab3544-042a-4464-925c-19bd24d08067",
   "metadata": {},
   "source": [
    "### Question 1"
   ]
  },
  {
   "cell_type": "markdown",
   "id": "afbe3618-e8eb-4eb0-81ab-0d780ee5ee11",
   "metadata": {},
   "source": [
    "`command; value_of_x; value_of_y; value_of_swap  \n",
    "x = 1.0; 1.0; undefined; undefined  \n",
    "y = 3.0; 1.0; 3.0; undefined  \n",
    "swap = x; 1.0; 3.0; 1.0  \n",
    "x = y; 3.0; 3.0; 1.0  \n",
    "y = swap; 3.0; 1.0; 1.0\n",
    "* All the variables are assigned specific values.\n",
    "* This may not work for lists."
   ]
  },
  {
   "cell_type": "markdown",
   "id": "ce0420c7-8b92-4afa-a10b-a030e80d7cc2",
   "metadata": {},
   "source": [
    "Python variables don't have values by default.  \n",
    "The value none in python is similar to NA in R.  \n",
    "better to write undefined in this case."
   ]
  },
  {
   "cell_type": "code",
   "execution_count": 20,
   "id": "d0efe3f3-d22c-4d04-a8db-fd4595733341",
   "metadata": {},
   "outputs": [
    {
     "ename": "NameError",
     "evalue": "name 'birthday' is not defined",
     "output_type": "error",
     "traceback": [
      "\u001b[0;31m---------------------------------------------------------------------------\u001b[0m",
      "\u001b[0;31mNameError\u001b[0m                                 Traceback (most recent call last)",
      "Cell \u001b[0;32mIn[20], line 1\u001b[0m\n\u001b[0;32m----> 1\u001b[0m \u001b[43mbirthday\u001b[49m \u001b[38;5;129;01mis\u001b[39;00m \u001b[38;5;28;01mNone\u001b[39;00m\n",
      "\u001b[0;31mNameError\u001b[0m: name 'birthday' is not defined"
     ]
    }
   ],
   "source": [
    "birthday is None # None != not defined"
   ]
  },
  {
   "cell_type": "markdown",
   "id": "2135f362-3be1-4333-aafe-d6f4de3cb268",
   "metadata": {},
   "source": [
    "Python doesn't do interconversion like R.  \n",
    "Keep in mind which type the variable is stored as.  \n",
    "integer vs floating points  \n",
    "Floating points: fixed decimal places but the power can change (position of the point)."
   ]
  },
  {
   "cell_type": "markdown",
   "id": "e5cc0415-bebd-4bd2-b903-1a8bd79a6d2a",
   "metadata": {},
   "source": [
    "### Question 2"
   ]
  },
  {
   "cell_type": "markdown",
   "id": "2b6b7f48-37ed-4e80-b14d-46c82cb56679",
   "metadata": {},
   "source": [
    "What is the final value of position in the program below?"
   ]
  },
  {
   "cell_type": "code",
   "execution_count": 21,
   "id": "d4d56af9-fbba-4c63-b608-eae84fddbb6d",
   "metadata": {},
   "outputs": [],
   "source": [
    "initial = 'left'\n",
    "position = initial\n",
    "initial = 'right'"
   ]
  },
  {
   "cell_type": "code",
   "execution_count": 24,
   "id": "d4712220-0c3c-4be2-a707-f9eb7130f8b7",
   "metadata": {},
   "outputs": [
    {
     "name": "stdout",
     "output_type": "stream",
     "text": [
      "right\n"
     ]
    }
   ],
   "source": [
    "print(initial)"
   ]
  },
  {
   "cell_type": "code",
   "execution_count": 25,
   "id": "3ac12aaf-7d92-4a24-a092-165cfcd7f6dc",
   "metadata": {},
   "outputs": [
    {
     "name": "stdout",
     "output_type": "stream",
     "text": [
      "left\n"
     ]
    }
   ],
   "source": [
    "print(position)"
   ]
  },
  {
   "cell_type": "markdown",
   "id": "bc094437-adaf-439b-abd8-9ad8e039088c",
   "metadata": {},
   "source": [
    "In Python, variable is not mutable.  \n",
    "`position = initial`: now `position` and `initial` will both have the reference to string 'left'.  \n",
    "When change the value of `initial`, `initial` will contain to a reference to string 'right'.  \n",
    "`position` will still store the old value 'left'."
   ]
  }
 ],
 "metadata": {
  "kernelspec": {
   "display_name": "Python 3 (ipykernel)",
   "language": "python",
   "name": "python3"
  },
  "language_info": {
   "codemirror_mode": {
    "name": "ipython",
    "version": 3
   },
   "file_extension": ".py",
   "mimetype": "text/x-python",
   "name": "python",
   "nbconvert_exporter": "python",
   "pygments_lexer": "ipython3",
   "version": "3.8.18"
  }
 },
 "nbformat": 4,
 "nbformat_minor": 5
}
