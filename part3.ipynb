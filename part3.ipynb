{
 "cells": [
  {
   "cell_type": "markdown",
   "id": "48f3d67b-6db0-4d6d-8eb1-52f63abd985d",
   "metadata": {},
   "source": [
    "# Part3: Data Types and Type Conversion"
   ]
  },
  {
   "cell_type": "markdown",
   "id": "3583d496-5821-47fb-8d2b-df04b02367b9",
   "metadata": {},
   "source": [
    "different data types: int\n",
    "float\n",
    "str"
   ]
  },
  {
   "cell_type": "code",
   "execution_count": 1,
   "id": "df61c0bf-b456-4505-8be8-950239df176d",
   "metadata": {},
   "outputs": [
    {
     "data": {
      "text/plain": [
       "int"
      ]
     },
     "execution_count": 1,
     "metadata": {},
     "output_type": "execute_result"
    }
   ],
   "source": [
    "type(52)"
   ]
  },
  {
   "cell_type": "code",
   "execution_count": 2,
   "id": "93ce376c-6528-49ed-a904-c9f464e41235",
   "metadata": {},
   "outputs": [
    {
     "data": {
      "text/plain": [
       "float"
      ]
     },
     "execution_count": 2,
     "metadata": {},
     "output_type": "execute_result"
    }
   ],
   "source": [
    "type(52.0)"
   ]
  },
  {
   "cell_type": "code",
   "execution_count": 3,
   "id": "02283bc8-552c-447d-b188-4f2ec3d4404a",
   "metadata": {},
   "outputs": [],
   "source": [
    "fitness = 'average'"
   ]
  },
  {
   "cell_type": "code",
   "execution_count": null,
   "id": "f8037615-9d80-40f8-87b9-3ccd0d200235",
   "metadata": {},
   "outputs": [],
   "source": []
  }
 ],
 "metadata": {
  "kernelspec": {
   "display_name": "Python 3 (ipykernel)",
   "language": "python",
   "name": "python3"
  },
  "language_info": {
   "codemirror_mode": {
    "name": "ipython",
    "version": 3
   },
   "file_extension": ".py",
   "mimetype": "text/x-python",
   "name": "python",
   "nbconvert_exporter": "python",
   "pygments_lexer": "ipython3",
   "version": "3.8.18"
  }
 },
 "nbformat": 4,
 "nbformat_minor": 5
}
