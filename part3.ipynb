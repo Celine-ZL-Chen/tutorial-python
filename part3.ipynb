{
 "cells": [
  {
   "cell_type": "markdown",
   "id": "48f3d67b-6db0-4d6d-8eb1-52f63abd985d",
   "metadata": {},
   "source": [
    "# Part3: Data Types and Type Conversion"
   ]
  },
  {
   "cell_type": "markdown",
   "id": "3583d496-5821-47fb-8d2b-df04b02367b9",
   "metadata": {},
   "source": [
    "Different data types:  \n",
    "* int: integer\n",
    "* float\n",
    "* str: string"
   ]
  },
  {
   "cell_type": "code",
   "execution_count": 1,
   "id": "df61c0bf-b456-4505-8be8-950239df176d",
   "metadata": {},
   "outputs": [
    {
     "data": {
      "text/plain": [
       "int"
      ]
     },
     "execution_count": 1,
     "metadata": {},
     "output_type": "execute_result"
    }
   ],
   "source": [
    "type(52)"
   ]
  },
  {
   "cell_type": "code",
   "execution_count": 2,
   "id": "93ce376c-6528-49ed-a904-c9f464e41235",
   "metadata": {},
   "outputs": [
    {
     "data": {
      "text/plain": [
       "float"
      ]
     },
     "execution_count": 2,
     "metadata": {},
     "output_type": "execute_result"
    }
   ],
   "source": [
    "type(52.0)"
   ]
  },
  {
   "cell_type": "code",
   "execution_count": 3,
   "id": "02283bc8-552c-447d-b188-4f2ec3d4404a",
   "metadata": {},
   "outputs": [],
   "source": [
    "fitness = 'average'"
   ]
  },
  {
   "cell_type": "code",
   "execution_count": 4,
   "id": "f8037615-9d80-40f8-87b9-3ccd0d200235",
   "metadata": {},
   "outputs": [
    {
     "data": {
      "text/plain": [
       "str"
      ]
     },
     "execution_count": 4,
     "metadata": {},
     "output_type": "execute_result"
    }
   ],
   "source": [
    "type(fitness)"
   ]
  },
  {
   "cell_type": "code",
   "execution_count": 5,
   "id": "4b7ff9d4-c002-4a03-8bdf-2c83fe9a7876",
   "metadata": {},
   "outputs": [
    {
     "data": {
      "text/plain": [
       "3"
      ]
     },
     "execution_count": 5,
     "metadata": {},
     "output_type": "execute_result"
    }
   ],
   "source": [
    "5 - 2"
   ]
  },
  {
   "cell_type": "code",
   "execution_count": 12,
   "id": "00781452-89d0-4982-b7ee-7ffe3678df6d",
   "metadata": {},
   "outputs": [
    {
     "data": {
      "text/plain": [
       "7"
      ]
     },
     "execution_count": 12,
     "metadata": {},
     "output_type": "execute_result"
    }
   ],
   "source": [
    "5 + 2 # addition"
   ]
  },
  {
   "cell_type": "code",
   "execution_count": 6,
   "id": "54ef84b7-7756-47f6-b23e-3c75229c332c",
   "metadata": {},
   "outputs": [
    {
     "ename": "TypeError",
     "evalue": "unsupported operand type(s) for -: 'str' and 'str'",
     "output_type": "error",
     "traceback": [
      "\u001b[0;31m---------------------------------------------------------------------------\u001b[0m",
      "\u001b[0;31mTypeError\u001b[0m                                 Traceback (most recent call last)",
      "Cell \u001b[0;32mIn[6], line 1\u001b[0m\n\u001b[0;32m----> 1\u001b[0m \u001b[38;5;124;43m'\u001b[39;49m\u001b[38;5;124;43mhello\u001b[39;49m\u001b[38;5;124;43m'\u001b[39;49m\u001b[43m \u001b[49m\u001b[38;5;241;43m-\u001b[39;49m\u001b[38;5;124;43m'\u001b[39;49m\u001b[38;5;124;43mh\u001b[39;49m\u001b[38;5;124;43m'\u001b[39;49m\n",
      "\u001b[0;31mTypeError\u001b[0m: unsupported operand type(s) for -: 'str' and 'str'"
     ]
    }
   ],
   "source": [
    "'hello' -'h'"
   ]
  },
  {
   "cell_type": "code",
   "execution_count": 13,
   "id": "43329be3-2c74-4805-8ad1-bae176bdd2d4",
   "metadata": {},
   "outputs": [],
   "source": [
    "full_name = 'Ahmed' + ' ' + 'Walsh' # concatenation"
   ]
  },
  {
   "cell_type": "code",
   "execution_count": 10,
   "id": "363fb965-7eca-4b35-a3ba-fa6c76c2b82c",
   "metadata": {},
   "outputs": [
    {
     "data": {
      "text/plain": [
       "'Ahmed Walsh'"
      ]
     },
     "execution_count": 10,
     "metadata": {},
     "output_type": "execute_result"
    }
   ],
   "source": [
    "full_name"
   ]
  },
  {
   "cell_type": "code",
   "execution_count": 14,
   "id": "b1c9b0fe-8ebc-4526-85c4-d17054a6f15c",
   "metadata": {},
   "outputs": [],
   "source": [
    "separator = '=-' * 10 # string repeated by 10 times"
   ]
  },
  {
   "cell_type": "code",
   "execution_count": 15,
   "id": "92b3f948-a5f1-419f-9060-e6db9d85e7b1",
   "metadata": {},
   "outputs": [
    {
     "data": {
      "text/plain": [
       "'=-=-=-=-=-=-=-=-=-=-'"
      ]
     },
     "execution_count": 15,
     "metadata": {},
     "output_type": "execute_result"
    }
   ],
   "source": [
    "separator"
   ]
  },
  {
   "cell_type": "code",
   "execution_count": 16,
   "id": "cb6701ae-c98c-466e-ad4e-55b5c1812ff2",
   "metadata": {},
   "outputs": [],
   "source": [
    "a = '123'"
   ]
  },
  {
   "cell_type": "code",
   "execution_count": 17,
   "id": "7c2d7e89-ea90-4a09-8167-6a179a0ba772",
   "metadata": {},
   "outputs": [],
   "source": [
    "b = 123"
   ]
  },
  {
   "cell_type": "code",
   "execution_count": 18,
   "id": "467060e8-4c04-4c4c-a1c5-0f4b468885b4",
   "metadata": {},
   "outputs": [
    {
     "data": {
      "text/plain": [
       "str"
      ]
     },
     "execution_count": 18,
     "metadata": {},
     "output_type": "execute_result"
    }
   ],
   "source": [
    "type(a)"
   ]
  },
  {
   "cell_type": "code",
   "execution_count": 19,
   "id": "9d0716ba-fb75-4d74-a55a-d0d0eca5c72e",
   "metadata": {},
   "outputs": [
    {
     "data": {
      "text/plain": [
       "int"
      ]
     },
     "execution_count": 19,
     "metadata": {},
     "output_type": "execute_result"
    }
   ],
   "source": [
    "type(b)"
   ]
  },
  {
   "cell_type": "code",
   "execution_count": 21,
   "id": "5d02397b-da6d-45b2-98a1-0a14b81874c5",
   "metadata": {},
   "outputs": [
    {
     "ename": "TypeError",
     "evalue": "unsupported operand type(s) for +: 'int' and 'str'",
     "output_type": "error",
     "traceback": [
      "\u001b[0;31m---------------------------------------------------------------------------\u001b[0m",
      "\u001b[0;31mTypeError\u001b[0m                                 Traceback (most recent call last)",
      "Cell \u001b[0;32mIn[21], line 1\u001b[0m\n\u001b[0;32m----> 1\u001b[0m \u001b[38;5;241;43m1\u001b[39;49m\u001b[43m \u001b[49m\u001b[38;5;241;43m+\u001b[39;49m\u001b[43m \u001b[49m\u001b[38;5;124;43m'\u001b[39;49m\u001b[38;5;124;43m2\u001b[39;49m\u001b[38;5;124;43m'\u001b[39;49m\n",
      "\u001b[0;31mTypeError\u001b[0m: unsupported operand type(s) for +: 'int' and 'str'"
     ]
    }
   ],
   "source": [
    "1 + '2'\n",
    "# add string to an integer works in javascript but not python"
   ]
  },
  {
   "cell_type": "code",
   "execution_count": 22,
   "id": "8cfdba05-1f53-473c-896b-c77d3ea31720",
   "metadata": {},
   "outputs": [
    {
     "name": "stdout",
     "output_type": "stream",
     "text": [
      "1 2\n"
     ]
    }
   ],
   "source": [
    "print(1, '2') # want to concatenate but still have space between"
   ]
  },
  {
   "cell_type": "code",
   "execution_count": 23,
   "id": "6a4f274f-fb78-4a53-8180-5f0d7275aaee",
   "metadata": {},
   "outputs": [
    {
     "data": {
      "text/plain": [
       "'12'"
      ]
     },
     "execution_count": 23,
     "metadata": {},
     "output_type": "execute_result"
    }
   ],
   "source": [
    "str(1) + '2' # string concatenation"
   ]
  },
  {
   "cell_type": "code",
   "execution_count": 24,
   "id": "cdf8eee3-1e04-4dce-95fe-38621db28466",
   "metadata": {},
   "outputs": [
    {
     "data": {
      "text/plain": [
       "3"
      ]
     },
     "execution_count": 24,
     "metadata": {},
     "output_type": "execute_result"
    }
   ],
   "source": [
    "1 + int('2') # integer addition"
   ]
  },
  {
   "cell_type": "code",
   "execution_count": 26,
   "id": "3146bd6d-44a8-4bf1-9f88-e967b43eb356",
   "metadata": {},
   "outputs": [
    {
     "data": {
      "text/plain": [
       "0.5"
      ]
     },
     "execution_count": 26,
     "metadata": {},
     "output_type": "execute_result"
    }
   ],
   "source": [
    "1 / 2 # python 3 converts integer to floats as needed"
   ]
  },
  {
   "cell_type": "markdown",
   "id": "7ce58484-54bb-438c-aa35-ddcd9163622b",
   "metadata": {},
   "source": [
    "Python does automatic conversion and allow mix integer and floating points for operation"
   ]
  },
  {
   "cell_type": "code",
   "execution_count": 28,
   "id": "f5b5067e-9b82-46e1-9586-4a3235f6ead2",
   "metadata": {},
   "outputs": [
    {
     "data": {
      "text/plain": [
       "0"
      ]
     },
     "execution_count": 28,
     "metadata": {},
     "output_type": "execute_result"
    }
   ],
   "source": [
    "1 // 2 # C behavior"
   ]
  },
  {
   "cell_type": "raw",
   "id": "842bfe3a-92ec-4e93-91a6-4350403d3bbb",
   "metadata": {},
   "source": [
    "variable only change value when something is assigned to them"
   ]
  },
  {
   "cell_type": "code",
   "execution_count": 29,
   "id": "14302cf0-fc09-4d79-a1ba-e49938567e82",
   "metadata": {},
   "outputs": [
    {
     "ename": "ValueError",
     "evalue": "invalid literal for int() with base 10: '1.1'",
     "output_type": "error",
     "traceback": [
      "\u001b[0;31m---------------------------------------------------------------------------\u001b[0m",
      "\u001b[0;31mValueError\u001b[0m                                Traceback (most recent call last)",
      "Cell \u001b[0;32mIn[29], line 1\u001b[0m\n\u001b[0;32m----> 1\u001b[0m \u001b[38;5;28;43mint\u001b[39;49m\u001b[43m(\u001b[49m\u001b[38;5;124;43m\"\u001b[39;49m\u001b[38;5;124;43m1.1\u001b[39;49m\u001b[38;5;124;43m\"\u001b[39;49m\u001b[43m)\u001b[49m\n",
      "\u001b[0;31mValueError\u001b[0m: invalid literal for int() with base 10: '1.1'"
     ]
    }
   ],
   "source": [
    "int(\"1.1\")"
   ]
  },
  {
   "cell_type": "code",
   "execution_count": 30,
   "id": "748505ab-9e94-49d9-92e7-4c2f01e2e897",
   "metadata": {},
   "outputs": [
    {
     "data": {
      "text/plain": [
       "1"
      ]
     },
     "execution_count": 30,
     "metadata": {},
     "output_type": "execute_result"
    }
   ],
   "source": [
    "int(float(\"1.1\"))"
   ]
  },
  {
   "cell_type": "markdown",
   "id": "6ab0f8ed-e791-4cc3-9be4-cce632972986",
   "metadata": {},
   "source": [
    "* Feather format (large data file, efficient processing and storage)\n",
    "* Apache Parquet format"
   ]
  },
  {
   "cell_type": "code",
   "execution_count": null,
   "id": "9812eebf-8d7e-4e22-842e-b6889b930814",
   "metadata": {},
   "outputs": [],
   "source": []
  }
 ],
 "metadata": {
  "kernelspec": {
   "display_name": "Python 3 (ipykernel)",
   "language": "python",
   "name": "python3"
  },
  "language_info": {
   "codemirror_mode": {
    "name": "ipython",
    "version": 3
   },
   "file_extension": ".py",
   "mimetype": "text/x-python",
   "name": "python",
   "nbconvert_exporter": "python",
   "pygments_lexer": "ipython3",
   "version": "3.8.18"
  }
 },
 "nbformat": 4,
 "nbformat_minor": 5
}
