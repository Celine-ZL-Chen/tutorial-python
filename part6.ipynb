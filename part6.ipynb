{
 "cells": [
  {
   "cell_type": "markdown",
   "id": "105940f4-4cc9-4318-81b3-2fb77d917634",
   "metadata": {},
   "source": [
    "# Part6: Libraries"
   ]
  },
  {
   "cell_type": "code",
   "execution_count": 1,
   "id": "50e9aa9f-accd-4a50-a8d2-c1c3b656b4a1",
   "metadata": {},
   "outputs": [],
   "source": [
    "import math"
   ]
  },
  {
   "cell_type": "code",
   "execution_count": 2,
   "id": "d1ec92a6-d0fc-4ab4-afc8-5a67adf541af",
   "metadata": {},
   "outputs": [
    {
     "name": "stdout",
     "output_type": "stream",
     "text": [
      "pi is 3.141592653589793\n",
      "cos(pi) is -1.0\n"
     ]
    }
   ],
   "source": [
    "print('pi is', math.pi)\n",
    "print('cos(pi) is', math.cos(math.pi))"
   ]
  },
  {
   "cell_type": "markdown",
   "id": "9f70e889-5f9a-464c-9a98-04a23f24f90e",
   "metadata": {},
   "source": [
    "Call the library everytime before calling functions"
   ]
  },
  {
   "cell_type": "code",
   "execution_count": 3,
   "id": "3887e121-4c1f-41e0-83ea-6a1ea2d06785",
   "metadata": {},
   "outputs": [
    {
     "data": {
      "text/plain": [
       "-1.0"
      ]
     },
     "execution_count": 3,
     "metadata": {},
     "output_type": "execute_result"
    }
   ],
   "source": [
    "from math import cos, pi\n",
    "cos(pi) # unqualified function"
   ]
  },
  {
   "cell_type": "markdown",
   "id": "3c73ecbf-a921-40f9-807e-88b3ad0f0f13",
   "metadata": {},
   "source": [
    "More ambiguous since functions from different library may have same name"
   ]
  },
  {
   "cell_type": "code",
   "execution_count": 4,
   "id": "39a2dc96-2437-4aa5-8bb4-55de77435861",
   "metadata": {},
   "outputs": [
    {
     "data": {
      "text/plain": [
       "1.2246467991473532e-16"
      ]
     },
     "execution_count": 4,
     "metadata": {},
     "output_type": "execute_result"
    }
   ],
   "source": [
    "import math as m\n",
    "m.sin(m.pi) # qualified function preferred"
   ]
  },
  {
   "cell_type": "markdown",
   "id": "506f03df-d056-4de6-b519-64d3907bb728",
   "metadata": {},
   "source": [
    "Can type less"
   ]
  },
  {
   "cell_type": "markdown",
   "id": "97742e84-c953-4eac-8f78-1c669f72ed19",
   "metadata": {},
   "source": [
    "### Question 1"
   ]
  },
  {
   "cell_type": "markdown",
   "id": "66467b75-9190-431e-a4bc-7033b0eb2174",
   "metadata": {},
   "source": [
    "What function from the math module can you use to calculate a square root without using sqrt?  \n",
    "Since the library contains this function, why does sqrt exist?"
   ]
  },
  {
   "cell_type": "code",
   "execution_count": 5,
   "id": "d0f80fe3-a5e2-4c8a-9be4-c013f53490a5",
   "metadata": {},
   "outputs": [
    {
     "data": {
      "text/plain": [
       "\u001b[0;31mSignature:\u001b[0m \u001b[0mmath\u001b[0m\u001b[0;34m.\u001b[0m\u001b[0msqrt\u001b[0m\u001b[0;34m(\u001b[0m\u001b[0mx\u001b[0m\u001b[0;34m,\u001b[0m \u001b[0;34m/\u001b[0m\u001b[0;34m)\u001b[0m\u001b[0;34m\u001b[0m\u001b[0;34m\u001b[0m\u001b[0m\n",
       "\u001b[0;31mDocstring:\u001b[0m Return the square root of x.\n",
       "\u001b[0;31mType:\u001b[0m      builtin_function_or_method"
      ]
     },
     "metadata": {},
     "output_type": "display_data"
    }
   ],
   "source": [
    "math.sqrt?"
   ]
  },
  {
   "cell_type": "markdown",
   "id": "21f75682-2e2b-4400-b025-08752d60539b",
   "metadata": {},
   "source": [
    "More specialized function usually has faster computational speed."
   ]
  },
  {
   "cell_type": "code",
   "execution_count": 6,
   "id": "253801cd-51ec-441b-91c0-31fc6022edc1",
   "metadata": {},
   "outputs": [
    {
     "data": {
      "text/plain": [
       "\u001b[0;31mSignature:\u001b[0m \u001b[0mmath\u001b[0m\u001b[0;34m.\u001b[0m\u001b[0mpow\u001b[0m\u001b[0;34m(\u001b[0m\u001b[0mx\u001b[0m\u001b[0;34m,\u001b[0m \u001b[0my\u001b[0m\u001b[0;34m,\u001b[0m \u001b[0;34m/\u001b[0m\u001b[0;34m)\u001b[0m\u001b[0;34m\u001b[0m\u001b[0;34m\u001b[0m\u001b[0m\n",
       "\u001b[0;31mDocstring:\u001b[0m Return x**y (x to the power of y).\n",
       "\u001b[0;31mType:\u001b[0m      builtin_function_or_method"
      ]
     },
     "metadata": {},
     "output_type": "display_data"
    }
   ],
   "source": [
    "math.pow?"
   ]
  },
  {
   "cell_type": "markdown",
   "id": "8015f044-36e8-4ae7-af56-9339c85a096e",
   "metadata": {},
   "source": [
    "More general function."
   ]
  },
  {
   "cell_type": "markdown",
   "id": "230a6e1c-8e9b-42d3-95be-f34981192f2c",
   "metadata": {},
   "source": [
    "### Question 2"
   ]
  },
  {
   "cell_type": "markdown",
   "id": "17b49354-a5ad-4627-a3c9-30a901e334fa",
   "metadata": {},
   "source": [
    "You want to select a random character from a string:  \n",
    "bases = 'ACTTGCTTGAC'  \n",
    "Which standard library module could help you?  \n",
    "Which function would you select from that module? Are there alternatives?  \n",
    "Try to write a program that uses the function."
   ]
  },
  {
   "cell_type": "code",
   "execution_count": 7,
   "id": "be2c72bc-7309-466b-ab8b-1edaf9c45bf7",
   "metadata": {},
   "outputs": [],
   "source": [
    "bases = 'ACTTGCTTGAC'"
   ]
  },
  {
   "cell_type": "code",
   "execution_count": 8,
   "id": "3ce4c8a6-f233-4bfb-8c3b-41aed3ee792b",
   "metadata": {},
   "outputs": [
    {
     "data": {
      "text/plain": [
       "'A'"
      ]
     },
     "execution_count": 8,
     "metadata": {},
     "output_type": "execute_result"
    }
   ],
   "source": [
    "import random as r\n",
    "r.seed(3432)\n",
    "r.sample(bases, 1)[0]"
   ]
  },
  {
   "cell_type": "markdown",
   "id": "2a8cbda6-e9f2-4217-960c-4ca52dc1475b",
   "metadata": {},
   "source": [
    "### Question 3"
   ]
  },
  {
   "cell_type": "code",
   "execution_count": 9,
   "id": "74e547c3-49a2-42a4-8106-6bded9c7bf0c",
   "metadata": {},
   "outputs": [
    {
     "ename": "ValueError",
     "evalue": "math domain error",
     "output_type": "error",
     "traceback": [
      "\u001b[0;31m---------------------------------------------------------------------------\u001b[0m",
      "\u001b[0;31mValueError\u001b[0m                                Traceback (most recent call last)",
      "Cell \u001b[0;32mIn[9], line 2\u001b[0m\n\u001b[1;32m      1\u001b[0m \u001b[38;5;28;01mfrom\u001b[39;00m \u001b[38;5;21;01mmath\u001b[39;00m \u001b[38;5;28;01mimport\u001b[39;00m log\n\u001b[0;32m----> 2\u001b[0m \u001b[43mlog\u001b[49m\u001b[43m(\u001b[49m\u001b[38;5;241;43m0\u001b[39;49m\u001b[43m)\u001b[49m\n",
      "\u001b[0;31mValueError\u001b[0m: math domain error"
     ]
    }
   ],
   "source": [
    "from math import log\n",
    "log(0)"
   ]
  },
  {
   "cell_type": "markdown",
   "id": "a06ae96a-6e35-47ff-9ad3-2fcc60b24f91",
   "metadata": {},
   "source": [
    "Domain is the values that an input variable can take.  \n",
    "0 is outside the domain of input variable for function log()."
   ]
  },
  {
   "cell_type": "markdown",
   "id": "260df2d9-bfb7-47ed-9129-8e4567cf7908",
   "metadata": {},
   "source": [
    "In R, `log(0)` will output `-inf`"
   ]
  },
  {
   "cell_type": "code",
   "execution_count": null,
   "id": "2e12b073-d633-45e8-8d52-86280a291a46",
   "metadata": {},
   "outputs": [],
   "source": [
    "import numpy as np\n",
    "np.log(0)"
   ]
  }
 ],
 "metadata": {
  "kernelspec": {
   "display_name": "Python 3 (ipykernel)",
   "language": "python",
   "name": "python3"
  },
  "language_info": {
   "codemirror_mode": {
    "name": "ipython",
    "version": 3
   },
   "file_extension": ".py",
   "mimetype": "text/x-python",
   "name": "python",
   "nbconvert_exporter": "python",
   "pygments_lexer": "ipython3",
   "version": "3.8.18"
  }
 },
 "nbformat": 4,
 "nbformat_minor": 5
}
